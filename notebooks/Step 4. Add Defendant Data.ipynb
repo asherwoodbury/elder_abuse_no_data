{
 "cells": [
  {
   "cell_type": "markdown",
   "metadata": {},
   "source": [
    "# Add the defendant information to each charge"
   ]
  },
  {
   "cell_type": "code",
   "execution_count": 2,
   "metadata": {},
   "outputs": [],
   "source": [
    "import pandas as pd\n",
    "import numpy as np\n",
    "import datetime\n",
    "import csv"
   ]
  },
  {
   "cell_type": "code",
   "execution_count": 4,
   "metadata": {},
   "outputs": [
    {
     "data": {
      "text/html": [
       "<div>\n",
       "<style>\n",
       "    .dataframe thead tr:only-child th {\n",
       "        text-align: right;\n",
       "    }\n",
       "\n",
       "    .dataframe thead th {\n",
       "        text-align: left;\n",
       "    }\n",
       "\n",
       "    .dataframe tbody tr th {\n",
       "        vertical-align: top;\n",
       "    }\n",
       "</style>\n",
       "<table border=\"1\" class=\"dataframe\">\n",
       "  <thead>\n",
       "    <tr style=\"text-align: right;\">\n",
       "      <th></th>\n",
       "      <th>Case Number</th>\n",
       "      <th>Unique Identifier</th>\n",
       "      <th>First Name</th>\n",
       "      <th>Last Name</th>\n",
       "      <th>DOB</th>\n",
       "    </tr>\n",
       "  </thead>\n",
       "  <tbody>\n",
       "    <tr>\n",
       "      <th>0</th>\n",
       "      <td>32-2016-08713</td>\n",
       "      <td>3145473</td>\n",
       "      <td>AMANDA</td>\n",
       "      <td>PARRILLO</td>\n",
       "      <td>1985-05-31</td>\n",
       "    </tr>\n",
       "    <tr>\n",
       "      <th>1</th>\n",
       "      <td>31-2002-01546</td>\n",
       "      <td>4228143</td>\n",
       "      <td>KERRY</td>\n",
       "      <td>DION</td>\n",
       "      <td>1972-01-31</td>\n",
       "    </tr>\n",
       "    <tr>\n",
       "      <th>2</th>\n",
       "      <td>61-2002-00237</td>\n",
       "      <td>4236397</td>\n",
       "      <td>STEPHEN</td>\n",
       "      <td>SAPPO</td>\n",
       "      <td>1962-01-06</td>\n",
       "    </tr>\n",
       "    <tr>\n",
       "      <th>3</th>\n",
       "      <td>62-2010-12862</td>\n",
       "      <td>4240940</td>\n",
       "      <td>MELVIN</td>\n",
       "      <td>COLON</td>\n",
       "      <td>1974-11-20</td>\n",
       "    </tr>\n",
       "    <tr>\n",
       "      <th>4</th>\n",
       "      <td>61-2006-22994</td>\n",
       "      <td>4251314</td>\n",
       "      <td>SIRLEAF</td>\n",
       "      <td>TYLER</td>\n",
       "      <td>1978-02-12</td>\n",
       "    </tr>\n",
       "  </tbody>\n",
       "</table>\n",
       "</div>"
      ],
      "text/plain": [
       "     Case Number  Unique Identifier First Name Last Name        DOB\n",
       "0  32-2016-08713            3145473     AMANDA  PARRILLO 1985-05-31\n",
       "1  31-2002-01546            4228143      KERRY      DION 1972-01-31\n",
       "2  61-2002-00237            4236397    STEPHEN     SAPPO 1962-01-06\n",
       "3  62-2010-12862            4240940     MELVIN     COLON 1974-11-20\n",
       "4  61-2006-22994            4251314    SIRLEAF     TYLER 1978-02-12"
      ]
     },
     "execution_count": 4,
     "metadata": {},
     "output_type": "execute_result"
    }
   ],
   "source": [
    "crim_defendant = pd.read_excel('../data/inputs/Defendant_12_04_2017.xlsx')\n",
    "crim_defendant.head()"
   ]
  },
  {
   "cell_type": "code",
   "execution_count": 5,
   "metadata": {},
   "outputs": [
    {
     "data": {
      "text/html": [
       "<div>\n",
       "<style>\n",
       "    .dataframe thead tr:only-child th {\n",
       "        text-align: right;\n",
       "    }\n",
       "\n",
       "    .dataframe thead th {\n",
       "        text-align: left;\n",
       "    }\n",
       "\n",
       "    .dataframe tbody tr th {\n",
       "        vertical-align: top;\n",
       "    }\n",
       "</style>\n",
       "<table border=\"1\" class=\"dataframe\">\n",
       "  <thead>\n",
       "    <tr style=\"text-align: right;\">\n",
       "      <th></th>\n",
       "      <th>arresting_pd</th>\n",
       "      <th>case_id</th>\n",
       "      <th>case_no</th>\n",
       "      <th>charge_filing_date</th>\n",
       "      <th>charge_id</th>\n",
       "      <th>charge_number</th>\n",
       "      <th>disposition</th>\n",
       "      <th>disposition_date</th>\n",
       "      <th>judge</th>\n",
       "      <th>offense_date</th>\n",
       "      <th>offense_description</th>\n",
       "      <th>sentence</th>\n",
       "      <th>sentence_conditions</th>\n",
       "      <th>sentence_date</th>\n",
       "      <th>sentence_terms</th>\n",
       "    </tr>\n",
       "  </thead>\n",
       "  <tbody>\n",
       "    <tr>\n",
       "      <th>0</th>\n",
       "      <td>MIDDLETOWN POLICE DEPARTMENT</td>\n",
       "      <td>7422794</td>\n",
       "      <td>21-2001-01905</td>\n",
       "      <td>2001-08-04</td>\n",
       "      <td>3909041</td>\n",
       "      <td>1</td>\n",
       "      <td>NaN</td>\n",
       "      <td>NaT</td>\n",
       "      <td>NaN</td>\n",
       "      <td>2001-08-03</td>\n",
       "      <td>Larceny &lt; 500 Person 65+\\n</td>\n",
       "      <td>NaN</td>\n",
       "      <td>NaN</td>\n",
       "      <td>NaT</td>\n",
       "      <td></td>\n",
       "    </tr>\n",
       "    <tr>\n",
       "      <th>1</th>\n",
       "      <td>TIVERTON POLICE DEPARTMENT</td>\n",
       "      <td>7423292</td>\n",
       "      <td>21-2001-02507</td>\n",
       "      <td>2001-09-25</td>\n",
       "      <td>3909791</td>\n",
       "      <td>1</td>\n",
       "      <td>Plea of Nolo Contendere</td>\n",
       "      <td>2001-10-18</td>\n",
       "      <td>Pirraglia (Retired), Robert K.</td>\n",
       "      <td>2001-09-24</td>\n",
       "      <td>Larceny &lt; 500 Person 65+\\n</td>\n",
       "      <td>Criminal Sentence</td>\n",
       "      <td>Probation 1Y    Active: 10/18/2001; Court Cost...</td>\n",
       "      <td>2001-10-18</td>\n",
       "      <td></td>\n",
       "    </tr>\n",
       "    <tr>\n",
       "      <th>2</th>\n",
       "      <td>Newport Police Department</td>\n",
       "      <td>7424561</td>\n",
       "      <td>21-2002-00802</td>\n",
       "      <td>2002-03-27</td>\n",
       "      <td>3911694</td>\n",
       "      <td>2</td>\n",
       "      <td>Dismissed 48A</td>\n",
       "      <td>2003-02-25</td>\n",
       "      <td>Pirraglia (Retired), Robert K.</td>\n",
       "      <td>2002-03-27</td>\n",
       "      <td>FAILURE TO APPEAR FOR SUMMONS</td>\n",
       "      <td>NaN</td>\n",
       "      <td>NaN</td>\n",
       "      <td>NaT</td>\n",
       "      <td></td>\n",
       "    </tr>\n",
       "    <tr>\n",
       "      <th>3</th>\n",
       "      <td>Newport Police Department</td>\n",
       "      <td>7424561</td>\n",
       "      <td>21-2002-00802</td>\n",
       "      <td>2002-03-27</td>\n",
       "      <td>3911693</td>\n",
       "      <td>1</td>\n",
       "      <td>Dismissed 48A</td>\n",
       "      <td>2003-02-25</td>\n",
       "      <td>Pirraglia (Retired), Robert K.</td>\n",
       "      <td>2002-02-28</td>\n",
       "      <td>Larceny &lt; 500 Person 65+\\n</td>\n",
       "      <td>NaN</td>\n",
       "      <td>NaN</td>\n",
       "      <td>NaT</td>\n",
       "      <td></td>\n",
       "    </tr>\n",
       "    <tr>\n",
       "      <th>4</th>\n",
       "      <td>Newport Police Department</td>\n",
       "      <td>7425369</td>\n",
       "      <td>21-2002-01767</td>\n",
       "      <td>2002-07-24</td>\n",
       "      <td>3913116</td>\n",
       "      <td>1</td>\n",
       "      <td>Plea of Nolo Contendere</td>\n",
       "      <td>2002-07-24</td>\n",
       "      <td>Pirraglia (Retired), Robert K.</td>\n",
       "      <td>2002-07-11</td>\n",
       "      <td>Larceny &lt; 500 Person 65+\\n</td>\n",
       "      <td>Criminal Sentence</td>\n",
       "      <td>Credit for Time Served 10H    Active: 07/24/20...</td>\n",
       "      <td>2002-07-24</td>\n",
       "      <td></td>\n",
       "    </tr>\n",
       "  </tbody>\n",
       "</table>\n",
       "</div>"
      ],
      "text/plain": [
       "                    arresting_pd  case_id        case_no charge_filing_date  \\\n",
       "0  MIDDLETOWN POLICE DEPARTMENT   7422794  21-2001-01905         2001-08-04   \n",
       "1    TIVERTON POLICE DEPARTMENT   7423292  21-2001-02507         2001-09-25   \n",
       "2     Newport Police Department   7424561  21-2002-00802         2002-03-27   \n",
       "3     Newport Police Department   7424561  21-2002-00802         2002-03-27   \n",
       "4     Newport Police Department   7425369  21-2002-01767         2002-07-24   \n",
       "\n",
       "   charge_id  charge_number              disposition disposition_date  \\\n",
       "0    3909041              1                      NaN              NaT   \n",
       "1    3909791              1  Plea of Nolo Contendere       2001-10-18   \n",
       "2    3911694              2            Dismissed 48A       2003-02-25   \n",
       "3    3911693              1            Dismissed 48A       2003-02-25   \n",
       "4    3913116              1  Plea of Nolo Contendere       2002-07-24   \n",
       "\n",
       "                            judge offense_date            offense_description  \\\n",
       "0                             NaN   2001-08-03     Larceny < 500 Person 65+\\n   \n",
       "1  Pirraglia (Retired), Robert K.   2001-09-24     Larceny < 500 Person 65+\\n   \n",
       "2  Pirraglia (Retired), Robert K.   2002-03-27  FAILURE TO APPEAR FOR SUMMONS   \n",
       "3  Pirraglia (Retired), Robert K.   2002-02-28     Larceny < 500 Person 65+\\n   \n",
       "4  Pirraglia (Retired), Robert K.   2002-07-11     Larceny < 500 Person 65+\\n   \n",
       "\n",
       "            sentence                                sentence_conditions  \\\n",
       "0                NaN                                                NaN   \n",
       "1  Criminal Sentence  Probation 1Y    Active: 10/18/2001; Court Cost...   \n",
       "2                NaN                                                NaN   \n",
       "3                NaN                                                NaN   \n",
       "4  Criminal Sentence  Credit for Time Served 10H    Active: 07/24/20...   \n",
       "\n",
       "  sentence_date                         sentence_terms  \n",
       "0           NaT                                         \n",
       "1    2001-10-18                                         \n",
       "2           NaT                                         \n",
       "3           NaT                                         \n",
       "4    2002-07-24                                         "
      ]
     },
     "execution_count": 5,
     "metadata": {},
     "output_type": "execute_result"
    }
   ],
   "source": [
    "charges_with_sentences = pd.read_excel('../data/steps/Step3Output_charges_sentences.xlsx')\n",
    "charges_with_sentences.head()"
   ]
  },
  {
   "cell_type": "markdown",
   "metadata": {},
   "source": [
    "## Sub-step 1: Create a mapping from case number to defendant data"
   ]
  },
  {
   "cell_type": "code",
   "execution_count": 6,
   "metadata": {},
   "outputs": [],
   "source": [
    "defendant_mapping = {}\n",
    "for row in crim_defendant.iterrows():\n",
    "    case_number = row[1]['Case Number']\n",
    "    defendant_mapping[case_number] = row[1]"
   ]
  },
  {
   "cell_type": "markdown",
   "metadata": {},
   "source": [
    "### Sub-step 2: Merge the charge data and defendant data"
   ]
  },
  {
   "cell_type": "code",
   "execution_count": 8,
   "metadata": {},
   "outputs": [],
   "source": [
    "def snake_case(string):\n",
    "    return string.lower().replace(' ', '_')"
   ]
  },
  {
   "cell_type": "code",
   "execution_count": 15,
   "metadata": {},
   "outputs": [],
   "source": [
    "def create_merged_blob(charge, defendant):\n",
    "    blob = {}\n",
    "    for key in charge.keys():\n",
    "        blob[snake_case(key)] = charge[key]\n",
    "    for key in defendant.keys():\n",
    "        if key == 'Case Number':\n",
    "            continue\n",
    "        blob[snake_case(key)] = defendant[key]\n",
    "    return blob"
   ]
  },
  {
   "cell_type": "code",
   "execution_count": 16,
   "metadata": {},
   "outputs": [],
   "source": [
    "merged_data = []\n",
    "for row in charges_with_sentences.iterrows():\n",
    "    case_no = row[1]['case_no']\n",
    "    merged_blob = create_merged_blob(\n",
    "        row[1],\n",
    "        defendant_mapping[case_no]\n",
    "    )\n",
    "    merged_data.append(merged_blob)"
   ]
  },
  {
   "cell_type": "code",
   "execution_count": 17,
   "metadata": {},
   "outputs": [
    {
     "data": {
      "text/plain": [
       "3328"
      ]
     },
     "execution_count": 17,
     "metadata": {},
     "output_type": "execute_result"
    }
   ],
   "source": [
    "to_write = pd.DataFrame(merged_data)\n",
    "len(to_write)"
   ]
  },
  {
   "cell_type": "markdown",
   "metadata": {},
   "source": [
    "## Sub-step 3: Write data to `steps` folder"
   ]
  },
  {
   "cell_type": "code",
   "execution_count": 18,
   "metadata": {},
   "outputs": [],
   "source": [
    "writer = pd.ExcelWriter('../data/steps/Step4Output_merged.xlsx')\n",
    "to_write.to_excel(writer,'Sheet1')\n",
    "writer.save()"
   ]
  }
 ],
 "metadata": {
  "kernelspec": {
   "display_name": "Python 3",
   "language": "python",
   "name": "python3"
  },
  "language_info": {
   "codemirror_mode": {
    "name": "ipython",
    "version": 3
   },
   "file_extension": ".py",
   "mimetype": "text/x-python",
   "name": "python",
   "nbconvert_exporter": "python",
   "pygments_lexer": "ipython3",
   "version": "3.6.4"
  }
 },
 "nbformat": 4,
 "nbformat_minor": 2
}
