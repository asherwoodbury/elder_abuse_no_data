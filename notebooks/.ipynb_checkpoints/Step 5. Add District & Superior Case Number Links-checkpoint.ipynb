{
 "cells": [
  {
   "cell_type": "markdown",
   "metadata": {},
   "source": [
    "# Combine district court cases with their superior court counterparts"
   ]
  },
  {
   "cell_type": "code",
   "execution_count": 1,
   "metadata": {},
   "outputs": [],
   "source": [
    "import pandas as pd\n",
    "import numpy as np\n",
    "import datetime\n",
    "import csv"
   ]
  },
  {
   "cell_type": "code",
   "execution_count": 2,
   "metadata": {},
   "outputs": [
    {
     "data": {
      "text/html": [
       "<div>\n",
       "<style scoped>\n",
       "    .dataframe tbody tr th:only-of-type {\n",
       "        vertical-align: middle;\n",
       "    }\n",
       "\n",
       "    .dataframe tbody tr th {\n",
       "        vertical-align: top;\n",
       "    }\n",
       "\n",
       "    .dataframe thead th {\n",
       "        text-align: right;\n",
       "    }\n",
       "</style>\n",
       "<table border=\"1\" class=\"dataframe\">\n",
       "  <thead>\n",
       "    <tr style=\"text-align: right;\">\n",
       "      <th></th>\n",
       "      <th>arresting_pd</th>\n",
       "      <th>case_id</th>\n",
       "      <th>case_no</th>\n",
       "      <th>charge_filing_date</th>\n",
       "      <th>charge_id</th>\n",
       "      <th>charge_number</th>\n",
       "      <th>disposition</th>\n",
       "      <th>disposition_date</th>\n",
       "      <th>dob</th>\n",
       "      <th>first_name</th>\n",
       "      <th>judge</th>\n",
       "      <th>last_name</th>\n",
       "      <th>offense_date</th>\n",
       "      <th>offense_description</th>\n",
       "      <th>sentence</th>\n",
       "      <th>sentence_conditions</th>\n",
       "      <th>sentence_date</th>\n",
       "      <th>sentence_terms</th>\n",
       "      <th>unique_identifier</th>\n",
       "    </tr>\n",
       "  </thead>\n",
       "  <tbody>\n",
       "    <tr>\n",
       "      <th>0</th>\n",
       "      <td>MIDDLETOWN POLICE DEPARTMENT</td>\n",
       "      <td>7422794</td>\n",
       "      <td>21-2001-01905</td>\n",
       "      <td>2001-08-04</td>\n",
       "      <td>3909041</td>\n",
       "      <td>1</td>\n",
       "      <td>NaN</td>\n",
       "      <td>NaT</td>\n",
       "      <td>1965-10-27</td>\n",
       "      <td>SCOTT</td>\n",
       "      <td>NaN</td>\n",
       "      <td>DRISCOLL</td>\n",
       "      <td>2001-08-03</td>\n",
       "      <td>Larceny &lt; 500 Person 65+\\n</td>\n",
       "      <td>NaN</td>\n",
       "      <td>NaN</td>\n",
       "      <td>NaT</td>\n",
       "      <td></td>\n",
       "      <td>4232652</td>\n",
       "    </tr>\n",
       "    <tr>\n",
       "      <th>1</th>\n",
       "      <td>TIVERTON POLICE DEPARTMENT</td>\n",
       "      <td>7423292</td>\n",
       "      <td>21-2001-02507</td>\n",
       "      <td>2001-09-25</td>\n",
       "      <td>3909791</td>\n",
       "      <td>1</td>\n",
       "      <td>Plea of Nolo Contendere</td>\n",
       "      <td>2001-10-18</td>\n",
       "      <td>1971-07-04</td>\n",
       "      <td>NED</td>\n",
       "      <td>Pirraglia (Retired), Robert K.</td>\n",
       "      <td>FISHER</td>\n",
       "      <td>2001-09-24</td>\n",
       "      <td>Larceny &lt; 500 Person 65+\\n</td>\n",
       "      <td>Criminal Sentence</td>\n",
       "      <td>Probation 1Y    Active: 10/18/2001; Court Cost...</td>\n",
       "      <td>2001-10-18</td>\n",
       "      <td></td>\n",
       "      <td>4234254</td>\n",
       "    </tr>\n",
       "    <tr>\n",
       "      <th>2</th>\n",
       "      <td>Newport Police Department</td>\n",
       "      <td>7424561</td>\n",
       "      <td>21-2002-00802</td>\n",
       "      <td>2002-03-27</td>\n",
       "      <td>3911694</td>\n",
       "      <td>2</td>\n",
       "      <td>Dismissed 48A</td>\n",
       "      <td>2003-02-25</td>\n",
       "      <td>1983-04-28</td>\n",
       "      <td>JOSEPH</td>\n",
       "      <td>Pirraglia (Retired), Robert K.</td>\n",
       "      <td>FERREIRA</td>\n",
       "      <td>2002-03-27</td>\n",
       "      <td>FAILURE TO APPEAR FOR SUMMONS</td>\n",
       "      <td>NaN</td>\n",
       "      <td>NaN</td>\n",
       "      <td>NaT</td>\n",
       "      <td></td>\n",
       "      <td>4650281</td>\n",
       "    </tr>\n",
       "    <tr>\n",
       "      <th>3</th>\n",
       "      <td>Newport Police Department</td>\n",
       "      <td>7424561</td>\n",
       "      <td>21-2002-00802</td>\n",
       "      <td>2002-03-27</td>\n",
       "      <td>3911693</td>\n",
       "      <td>1</td>\n",
       "      <td>Dismissed 48A</td>\n",
       "      <td>2003-02-25</td>\n",
       "      <td>1983-04-28</td>\n",
       "      <td>JOSEPH</td>\n",
       "      <td>Pirraglia (Retired), Robert K.</td>\n",
       "      <td>FERREIRA</td>\n",
       "      <td>2002-02-28</td>\n",
       "      <td>Larceny &lt; 500 Person 65+\\n</td>\n",
       "      <td>NaN</td>\n",
       "      <td>NaN</td>\n",
       "      <td>NaT</td>\n",
       "      <td></td>\n",
       "      <td>4650281</td>\n",
       "    </tr>\n",
       "    <tr>\n",
       "      <th>4</th>\n",
       "      <td>Newport Police Department</td>\n",
       "      <td>7425369</td>\n",
       "      <td>21-2002-01767</td>\n",
       "      <td>2002-07-24</td>\n",
       "      <td>3913116</td>\n",
       "      <td>1</td>\n",
       "      <td>Plea of Nolo Contendere</td>\n",
       "      <td>2002-07-24</td>\n",
       "      <td>1976-03-25</td>\n",
       "      <td>DION</td>\n",
       "      <td>Pirraglia (Retired), Robert K.</td>\n",
       "      <td>ARDREY</td>\n",
       "      <td>2002-07-11</td>\n",
       "      <td>Larceny &lt; 500 Person 65+\\n</td>\n",
       "      <td>Criminal Sentence</td>\n",
       "      <td>Credit for Time Served 10H    Active: 07/24/20...</td>\n",
       "      <td>2002-07-24</td>\n",
       "      <td></td>\n",
       "      <td>4651070</td>\n",
       "    </tr>\n",
       "  </tbody>\n",
       "</table>\n",
       "</div>"
      ],
      "text/plain": [
       "                    arresting_pd  case_id        case_no charge_filing_date  \\\n",
       "0  MIDDLETOWN POLICE DEPARTMENT   7422794  21-2001-01905         2001-08-04   \n",
       "1    TIVERTON POLICE DEPARTMENT   7423292  21-2001-02507         2001-09-25   \n",
       "2     Newport Police Department   7424561  21-2002-00802         2002-03-27   \n",
       "3     Newport Police Department   7424561  21-2002-00802         2002-03-27   \n",
       "4     Newport Police Department   7425369  21-2002-01767         2002-07-24   \n",
       "\n",
       "   charge_id  charge_number              disposition disposition_date  \\\n",
       "0    3909041              1                      NaN              NaT   \n",
       "1    3909791              1  Plea of Nolo Contendere       2001-10-18   \n",
       "2    3911694              2            Dismissed 48A       2003-02-25   \n",
       "3    3911693              1            Dismissed 48A       2003-02-25   \n",
       "4    3913116              1  Plea of Nolo Contendere       2002-07-24   \n",
       "\n",
       "         dob first_name                           judge last_name  \\\n",
       "0 1965-10-27      SCOTT                             NaN  DRISCOLL   \n",
       "1 1971-07-04        NED  Pirraglia (Retired), Robert K.    FISHER   \n",
       "2 1983-04-28     JOSEPH  Pirraglia (Retired), Robert K.  FERREIRA   \n",
       "3 1983-04-28     JOSEPH  Pirraglia (Retired), Robert K.  FERREIRA   \n",
       "4 1976-03-25       DION  Pirraglia (Retired), Robert K.    ARDREY   \n",
       "\n",
       "  offense_date            offense_description           sentence  \\\n",
       "0   2001-08-03     Larceny < 500 Person 65+\\n                NaN   \n",
       "1   2001-09-24     Larceny < 500 Person 65+\\n  Criminal Sentence   \n",
       "2   2002-03-27  FAILURE TO APPEAR FOR SUMMONS                NaN   \n",
       "3   2002-02-28     Larceny < 500 Person 65+\\n                NaN   \n",
       "4   2002-07-11     Larceny < 500 Person 65+\\n  Criminal Sentence   \n",
       "\n",
       "                                 sentence_conditions sentence_date  \\\n",
       "0                                                NaN           NaT   \n",
       "1  Probation 1Y    Active: 10/18/2001; Court Cost...    2001-10-18   \n",
       "2                                                NaN           NaT   \n",
       "3                                                NaN           NaT   \n",
       "4  Credit for Time Served 10H    Active: 07/24/20...    2002-07-24   \n",
       "\n",
       "                          sentence_terms  unique_identifier  \n",
       "0                                                   4232652  \n",
       "1                                                   4234254  \n",
       "2                                                   4650281  \n",
       "3                                                   4650281  \n",
       "4                                                   4651070  "
      ]
     },
     "execution_count": 2,
     "metadata": {},
     "output_type": "execute_result"
    }
   ],
   "source": [
    "charge_data = pd.read_excel('../data/steps/Step4Output_merged.xlsx')\n",
    "charge_data.head()"
   ]
  },
  {
   "cell_type": "markdown",
   "metadata": {},
   "source": [
    "## Sub-step 1: Combine DC/Superior linkage files to create case mappings"
   ]
  },
  {
   "cell_type": "code",
   "execution_count": 3,
   "metadata": {},
   "outputs": [],
   "source": [
    "dc_to_sup = {}\n",
    "sup_to_dc = {}\n",
    "dc_to_dc = {}\n",
    "sup_to_sup = {}"
   ]
  },
  {
   "cell_type": "code",
   "execution_count": 4,
   "metadata": {},
   "outputs": [],
   "source": [
    "def add_to_set_map(case_map, key, value):\n",
    "    if key in case_map:\n",
    "        case_map[key].add(value)\n",
    "    else:\n",
    "        case_map[key] = set()\n",
    "        case_map[key].add(value)"
   ]
  },
  {
   "cell_type": "code",
   "execution_count": 5,
   "metadata": {},
   "outputs": [],
   "source": [
    "with open('../data/inputs/dc_links.csv') as dc_links, open('../data/inputs/sup_links.csv') as sup_links:\n",
    "    dc_reader = csv.reader(dc_links)\n",
    "    sup_reader = csv.reader(sup_links)\n",
    "    next(dc_reader)\n",
    "    next(sup_reader)\n",
    "    for line in dc_reader:\n",
    "        if line[1] == line[3]:\n",
    "            add_to_set_map(dc_to_dc, line[0], line[2])\n",
    "            add_to_set_map(dc_to_dc, line[0], line[0]) # Always map an item to itself for dc to dc\n",
    "        elif line[2] != 'NULL':\n",
    "            add_to_set_map(dc_to_sup, line[0], line[2])\n",
    "    for line in sup_reader:\n",
    "        if line[1] == line[3]:\n",
    "            add_to_set_map(sup_to_sup, line[0], line[2])\n",
    "            add_to_set_map(sup_to_sup, line[0], line[0]) # Always map an item to itself for sup to sup\n",
    "        elif line[2] != 'NULL':\n",
    "            add_to_set_map(sup_to_dc, line[0], line[2])"
   ]
  },
  {
   "cell_type": "markdown",
   "metadata": {},
   "source": [
    "## Sub-step 2: Get a list of all of our case numbers (and make a mapping of case number -> list of charges while we're at it)"
   ]
  },
  {
   "cell_type": "code",
   "execution_count": 6,
   "metadata": {},
   "outputs": [],
   "source": [
    "def add_to_list_map(case_map, key, value):\n",
    "    if key in case_map:\n",
    "        case_map[key].append(value)\n",
    "    else:\n",
    "        case_map[key] = []\n",
    "        case_map[key].append(value)"
   ]
  },
  {
   "cell_type": "code",
   "execution_count": 7,
   "metadata": {},
   "outputs": [],
   "source": [
    "charge_map = {}\n",
    "for row in charge_data.iterrows():\n",
    "    case_number = row[1]['case_no']\n",
    "    add_to_list_map(charge_map, case_number, row[1])"
   ]
  },
  {
   "cell_type": "markdown",
   "metadata": {},
   "source": [
    "## Sub-step 3: Create unique versions of `dc_to_dc` and `sup_to_sup` that are specific to our cases, and can be merged easily"
   ]
  },
  {
   "cell_type": "code",
   "execution_count": 8,
   "metadata": {},
   "outputs": [
    {
     "name": "stdout",
     "output_type": "stream",
     "text": [
      "19\n"
     ]
    }
   ],
   "source": [
    "unique_sup_to_sup = []\n",
    "unique_dc_to_dc = []\n",
    "\n",
    "sup_handled = set()\n",
    "dc_handled = set()\n",
    "for key in charge_map:\n",
    "    if key in sup_to_sup and not key in sup_handled:\n",
    "        value = [v for v in sup_to_sup[key] if v in charge_map]\n",
    "        if len(value) <= 1:\n",
    "            continue\n",
    "        unique_sup_to_sup.append(value)\n",
    "        for v in value:\n",
    "            sup_handled.add(v)\n",
    "    if key in dc_to_dc and not key in dc_handled:\n",
    "        value = [v for v in dc_to_dc[key] if v in charge_map]\n",
    "        if len(value) <= 1:\n",
    "            continue\n",
    "        unique_dc_to_dc.append(value)\n",
    "        for v in value:\n",
    "            dc_handled.add(v)\n",
    "print(len(unique_sup_to_sup))"
   ]
  },
  {
   "cell_type": "markdown",
   "metadata": {},
   "source": [
    "#### These now contain lists of groups of case numbers that are related. Some are actually dc->sup mappings, so we'll handle those"
   ]
  },
  {
   "cell_type": "code",
   "execution_count": 9,
   "metadata": {},
   "outputs": [],
   "source": [
    "def get_dc_to_sup(group):\n",
    "    # Returns dc, sup if True\n",
    "    if len(group) != 2:\n",
    "        return None, None\n",
    "    item1 = group[0]\n",
    "    item2 = group[1]\n",
    "    if item1[0].isalpha() and not item2[0].isalpha():\n",
    "        return item2, item1\n",
    "    if not item1[0].isalpha() and item2[0].isalpha():\n",
    "        return item1, item2\n",
    "    return None, None"
   ]
  },
  {
   "cell_type": "code",
   "execution_count": 10,
   "metadata": {},
   "outputs": [
    {
     "name": "stdout",
     "output_type": "stream",
     "text": [
      "14\n"
     ]
    }
   ],
   "source": [
    "for group in unique_sup_to_sup:\n",
    "    dc, sup = get_dc_to_sup(group)\n",
    "    if dc and sup:\n",
    "        unique_sup_to_sup.remove(group)\n",
    "        add_to_set_map(dc_to_sup, dc, sup)\n",
    "print(len(unique_sup_to_sup))"
   ]
  },
  {
   "cell_type": "markdown",
   "metadata": {},
   "source": [
    "#### Now we've just got weird case number mappings. So for these, pick the one with the higher charge date, and remove the other from our data mapping -- they should have the same data anyway"
   ]
  },
  {
   "cell_type": "code",
   "execution_count": 11,
   "metadata": {},
   "outputs": [],
   "source": [
    "def get_max(group, field, full=False): # Update this to check vals\n",
    "    max_field = None\n",
    "    max_case_num = None\n",
    "    \n",
    "    sorted(\n",
    "        group,\n",
    "        key=lambda x:max(charge_map[x],key=lambda x:x[field])[field],\n",
    "        reverse=True\n",
    "    )\n",
    "    if full:\n",
    "        return group\n",
    "    return group[0]"
   ]
  },
  {
   "cell_type": "code",
   "execution_count": 12,
   "metadata": {},
   "outputs": [
    {
     "name": "stdout",
     "output_type": "stream",
     "text": [
      "1379\n"
     ]
    }
   ],
   "source": [
    "for group in unique_sup_to_sup:\n",
    "    max_case_num = get_max(group, 'charge_filing_date')\n",
    "    for ele in group:\n",
    "        if ele != max_case_num:\n",
    "            del charge_map[ele]\n",
    "print(len(charge_map))"
   ]
  },
  {
   "cell_type": "markdown",
   "metadata": {},
   "source": [
    "#### Do the same for dc_to_dc"
   ]
  },
  {
   "cell_type": "code",
   "execution_count": 13,
   "metadata": {},
   "outputs": [
    {
     "name": "stdout",
     "output_type": "stream",
     "text": [
      "1378\n"
     ]
    }
   ],
   "source": [
    "for group in unique_dc_to_dc:\n",
    "    max_case_num = get_max(group, 'charge_filing_date')\n",
    "    for ele in group:\n",
    "        if ele != max_case_num:\n",
    "            del charge_map[ele]\n",
    "print(len(charge_map))"
   ]
  },
  {
   "cell_type": "markdown",
   "metadata": {},
   "source": [
    "## Sub-step 4: use `dc_to_sup` to combine dc and sup data"
   ]
  },
  {
   "cell_type": "code",
   "execution_count": 14,
   "metadata": {},
   "outputs": [],
   "source": [
    "def check_linked_case_num(linked_case_number):\n",
    "    linked_case_num = next(iter(linked_case_number))\n",
    "    if linked_case_num in charge_map:\n",
    "        return linked_case_num\n",
    "    return None"
   ]
  },
  {
   "cell_type": "code",
   "execution_count": 15,
   "metadata": {},
   "outputs": [],
   "source": [
    "def filter_multiple_linked_cases(current_case_number, linked_case_nums):\n",
    "    if current_case_number[0].isalpha():        \n",
    "        return get_max(\n",
    "            [\n",
    "                case_number for case_number in linked_case_nums\n",
    "                if case_number in charge_map and not case_number[0].isalpha()\n",
    "            ], 'charge_filing_date', full=True\n",
    "        )\n",
    "    else:\n",
    "        return get_max(\n",
    "            [\n",
    "                case_number for case_number in linked_case_nums\n",
    "                if case_number in charge_map and case_number[0].isalpha()\n",
    "            ], 'charge_filing_date', full=True\n",
    "        )"
   ]
  },
  {
   "cell_type": "code",
   "execution_count": 16,
   "metadata": {},
   "outputs": [
    {
     "name": "stdout",
     "output_type": "stream",
     "text": [
      "122 795\n"
     ]
    }
   ],
   "source": [
    "approved_cases = {}\n",
    "ignore = set()\n",
    "deleted = 0\n",
    "ignoring = 0\n",
    "case_nums = set()\n",
    "for row in charge_data.iterrows():\n",
    "    case_number = row[1]['case_no']\n",
    "    if case_number not in charge_map:\n",
    "        deleted +=1\n",
    "        continue\n",
    "    if case_number in ignore:\n",
    "        ignoring += 1\n",
    "        continue\n",
    "    case_nums.add(case_number)\n",
    "    \n",
    "    linked_case_num = None\n",
    "    if case_number in dc_to_sup or case_number in sup_to_dc:\n",
    "        if case_number[0].isalpha():\n",
    "            linked_case_numbers = sup_to_dc[case_number]\n",
    "        else:\n",
    "            linked_case_numbers = dc_to_sup[case_number]\n",
    "\n",
    "        if len(linked_case_numbers) == 1:\n",
    "            linked_case_num = check_linked_case_num(linked_case_numbers)\n",
    "        else:\n",
    "            ordered_linked_case_nums = filter_multiple_linked_cases(case_number, linked_case_numbers)\n",
    "            if len(ordered_linked_case_nums):\n",
    "                linked_case_num = ordered_linked_case_nums[0]\n",
    "            else:\n",
    "                linked_case_num = None\n",
    "            for k in ordered_linked_case_nums[1:]:\n",
    "                ignore.add(k)\n",
    "\n",
    "    if linked_case_num is None:\n",
    "        approved_cases[case_number] = None\n",
    "    else:\n",
    "        ordered = get_max([case_number, linked_case_num], 'charge_filing_date', full=True)\n",
    "        ignore.add(ordered[1])\n",
    "        if ordered[0] == case_number:\n",
    "            approved_cases[case_number] = ordered[1]\n",
    "print(deleted, ignoring)"
   ]
  },
  {
   "cell_type": "code",
   "execution_count": 17,
   "metadata": {},
   "outputs": [],
   "source": [
    "to_write = []\n",
    "for row in charge_data.iterrows():\n",
    "    charge_record = row[1]\n",
    "    case_number = charge_record['case_no']\n",
    "\n",
    "    if case_number in approved_cases:\n",
    "        if case_number[0].isalpha():\n",
    "            charge_record['sup_case'] = case_number\n",
    "            charge_record['dc_case'] = approved_cases[case_number]\n",
    "        else:\n",
    "            charge_record['sup_case'] = approved_cases[case_number]\n",
    "            charge_record['dc_case'] = case_number\n",
    "        del row[1]['case_no']\n",
    "        to_write.append(charge_record)"
   ]
  },
  {
   "cell_type": "code",
   "execution_count": 18,
   "metadata": {},
   "outputs": [
    {
     "name": "stdout",
     "output_type": "stream",
     "text": [
      "2411\n"
     ]
    }
   ],
   "source": [
    "print(len(to_write))"
   ]
  },
  {
   "cell_type": "markdown",
   "metadata": {},
   "source": [
    "## Sub-step 5: Write data to `steps` folder"
   ]
  },
  {
   "cell_type": "code",
   "execution_count": null,
   "metadata": {},
   "outputs": [],
   "source": []
  }
 ],
 "metadata": {
  "kernelspec": {
   "display_name": "Python 3",
   "language": "python",
   "name": "python3"
  },
  "language_info": {
   "codemirror_mode": {
    "name": "ipython",
    "version": 3
   },
   "file_extension": ".py",
   "mimetype": "text/x-python",
   "name": "python",
   "nbconvert_exporter": "python",
   "pygments_lexer": "ipython3",
   "version": "3.6.4"
  }
 },
 "nbformat": 4,
 "nbformat_minor": 2
}
