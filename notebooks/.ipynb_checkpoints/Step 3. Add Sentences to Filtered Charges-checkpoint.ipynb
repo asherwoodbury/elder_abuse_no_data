{
 "cells": [
  {
   "cell_type": "markdown",
   "metadata": {},
   "source": [
    "# Combine our filtered charges with our sentencing information"
   ]
  },
  {
   "cell_type": "code",
   "execution_count": 14,
   "metadata": {},
   "outputs": [],
   "source": [
    "import pandas as pd\n",
    "import numpy as np\n",
    "import datetime\n",
    "import csv"
   ]
  },
  {
   "cell_type": "code",
   "execution_count": 17,
   "metadata": {},
   "outputs": [
    {
     "data": {
      "text/html": [
       "<div>\n",
       "<style>\n",
       "    .dataframe thead tr:only-child th {\n",
       "        text-align: right;\n",
       "    }\n",
       "\n",
       "    .dataframe thead th {\n",
       "        text-align: left;\n",
       "    }\n",
       "\n",
       "    .dataframe tbody tr th {\n",
       "        vertical-align: top;\n",
       "    }\n",
       "</style>\n",
       "<table border=\"1\" class=\"dataframe\">\n",
       "  <thead>\n",
       "    <tr style=\"text-align: right;\">\n",
       "      <th></th>\n",
       "      <th>charge_id</th>\n",
       "      <th>disposition</th>\n",
       "      <th>disposition_date</th>\n",
       "      <th>judge</th>\n",
       "      <th>sentence</th>\n",
       "      <th>sentence_conditions</th>\n",
       "      <th>sentence_date</th>\n",
       "      <th>sentence_terms</th>\n",
       "    </tr>\n",
       "  </thead>\n",
       "  <tbody>\n",
       "    <tr>\n",
       "      <th>0</th>\n",
       "      <td>3976200.0</td>\n",
       "      <td>No Information Signed</td>\n",
       "      <td>2008-05-28</td>\n",
       "      <td>Erickson (Retired), Stephen</td>\n",
       "      <td>NaN</td>\n",
       "      <td>NaN</td>\n",
       "      <td>NaT</td>\n",
       "      <td></td>\n",
       "    </tr>\n",
       "    <tr>\n",
       "      <th>1</th>\n",
       "      <td>NaN</td>\n",
       "      <td>NaN</td>\n",
       "      <td>NaT</td>\n",
       "      <td>NaN</td>\n",
       "      <td>NaN</td>\n",
       "      <td>NaN</td>\n",
       "      <td>NaT</td>\n",
       "      <td>NaN</td>\n",
       "    </tr>\n",
       "    <tr>\n",
       "      <th>2</th>\n",
       "      <td>5512512.0</td>\n",
       "      <td>Nolo Contendere Plea To Amended Charge</td>\n",
       "      <td>1999-03-26</td>\n",
       "      <td>NaN</td>\n",
       "      <td>Criminal Sentence</td>\n",
       "      <td>Suspended 15Y   Judge: JUDGE PFEIFFER</td>\n",
       "      <td>1999-03-26</td>\n",
       "      <td></td>\n",
       "    </tr>\n",
       "    <tr>\n",
       "      <th>3</th>\n",
       "      <td>NaN</td>\n",
       "      <td>NaN</td>\n",
       "      <td>NaT</td>\n",
       "      <td>NaN</td>\n",
       "      <td>NaN</td>\n",
       "      <td>NaN</td>\n",
       "      <td>NaT</td>\n",
       "      <td>NaN</td>\n",
       "    </tr>\n",
       "    <tr>\n",
       "      <th>4</th>\n",
       "      <td>NaN</td>\n",
       "      <td>NaN</td>\n",
       "      <td>NaT</td>\n",
       "      <td>NaN</td>\n",
       "      <td>NaN</td>\n",
       "      <td>NaN</td>\n",
       "      <td>NaT</td>\n",
       "      <td>NaN</td>\n",
       "    </tr>\n",
       "  </tbody>\n",
       "</table>\n",
       "</div>"
      ],
      "text/plain": [
       "   charge_id                             disposition disposition_date  \\\n",
       "0  3976200.0                   No Information Signed       2008-05-28   \n",
       "1        NaN                                     NaN              NaT   \n",
       "2  5512512.0  Nolo Contendere Plea To Amended Charge       1999-03-26   \n",
       "3        NaN                                     NaN              NaT   \n",
       "4        NaN                                     NaN              NaT   \n",
       "\n",
       "                         judge           sentence  \\\n",
       "0  Erickson (Retired), Stephen                NaN   \n",
       "1                          NaN                NaN   \n",
       "2                          NaN  Criminal Sentence   \n",
       "3                          NaN                NaN   \n",
       "4                          NaN                NaN   \n",
       "\n",
       "                     sentence_conditions sentence_date  \\\n",
       "0                                    NaN           NaT   \n",
       "1                                    NaN           NaT   \n",
       "2  Suspended 15Y   Judge: JUDGE PFEIFFER    1999-03-26   \n",
       "3                                    NaN           NaT   \n",
       "4                                    NaN           NaT   \n",
       "\n",
       "                          sentence_terms  \n",
       "0                                         \n",
       "1                                    NaN  \n",
       "2                                         \n",
       "3                                    NaN  \n",
       "4                                    NaN  "
      ]
     },
     "execution_count": 17,
     "metadata": {},
     "output_type": "execute_result"
    }
   ],
   "source": [
    "crim_sentence = pd.read_excel('../data/steps/Step2Output_sentences.xlsx')\n",
    "crim_sentence.head()"
   ]
  },
  {
   "cell_type": "code",
   "execution_count": 19,
   "metadata": {},
   "outputs": [
    {
     "data": {
      "text/html": [
       "<div>\n",
       "<style>\n",
       "    .dataframe thead tr:only-child th {\n",
       "        text-align: right;\n",
       "    }\n",
       "\n",
       "    .dataframe thead th {\n",
       "        text-align: left;\n",
       "    }\n",
       "\n",
       "    .dataframe tbody tr th {\n",
       "        vertical-align: top;\n",
       "    }\n",
       "</style>\n",
       "<table border=\"1\" class=\"dataframe\">\n",
       "  <thead>\n",
       "    <tr style=\"text-align: right;\">\n",
       "      <th></th>\n",
       "      <th>Case ID</th>\n",
       "      <th>Case No</th>\n",
       "      <th>Charge ID</th>\n",
       "      <th>Charge Number</th>\n",
       "      <th>Offense Description</th>\n",
       "      <th>Offense Date</th>\n",
       "      <th>Charge Filing Date</th>\n",
       "      <th>Arresting PD</th>\n",
       "    </tr>\n",
       "  </thead>\n",
       "  <tbody>\n",
       "    <tr>\n",
       "      <th>5</th>\n",
       "      <td>7422794</td>\n",
       "      <td>21-2001-01905</td>\n",
       "      <td>3909041</td>\n",
       "      <td>1</td>\n",
       "      <td>Larceny &lt; 500 Person 65+\\n</td>\n",
       "      <td>2001-08-03</td>\n",
       "      <td>2001-08-04</td>\n",
       "      <td>MIDDLETOWN POLICE DEPARTMENT</td>\n",
       "    </tr>\n",
       "    <tr>\n",
       "      <th>11</th>\n",
       "      <td>7423292</td>\n",
       "      <td>21-2001-02507</td>\n",
       "      <td>3909791</td>\n",
       "      <td>1</td>\n",
       "      <td>Larceny &lt; 500 Person 65+\\n</td>\n",
       "      <td>2001-09-24</td>\n",
       "      <td>2001-09-25</td>\n",
       "      <td>TIVERTON POLICE DEPARTMENT</td>\n",
       "    </tr>\n",
       "    <tr>\n",
       "      <th>35</th>\n",
       "      <td>7424561</td>\n",
       "      <td>21-2002-00802</td>\n",
       "      <td>3911694</td>\n",
       "      <td>2</td>\n",
       "      <td>FAILURE TO APPEAR FOR SUMMONS</td>\n",
       "      <td>2002-03-27</td>\n",
       "      <td>2002-03-27</td>\n",
       "      <td>Newport Police Department</td>\n",
       "    </tr>\n",
       "    <tr>\n",
       "      <th>36</th>\n",
       "      <td>7424561</td>\n",
       "      <td>21-2002-00802</td>\n",
       "      <td>3911693</td>\n",
       "      <td>1</td>\n",
       "      <td>Larceny &lt; 500 Person 65+\\n</td>\n",
       "      <td>2002-02-28</td>\n",
       "      <td>2002-03-27</td>\n",
       "      <td>Newport Police Department</td>\n",
       "    </tr>\n",
       "    <tr>\n",
       "      <th>54</th>\n",
       "      <td>7425369</td>\n",
       "      <td>21-2002-01767</td>\n",
       "      <td>3913116</td>\n",
       "      <td>1</td>\n",
       "      <td>Larceny &lt; 500 Person 65+\\n</td>\n",
       "      <td>2002-07-11</td>\n",
       "      <td>2002-07-24</td>\n",
       "      <td>Newport Police Department</td>\n",
       "    </tr>\n",
       "  </tbody>\n",
       "</table>\n",
       "</div>"
      ],
      "text/plain": [
       "    Case ID        Case No  Charge ID  Charge Number  \\\n",
       "5   7422794  21-2001-01905    3909041              1   \n",
       "11  7423292  21-2001-02507    3909791              1   \n",
       "35  7424561  21-2002-00802    3911694              2   \n",
       "36  7424561  21-2002-00802    3911693              1   \n",
       "54  7425369  21-2002-01767    3913116              1   \n",
       "\n",
       "              Offense Description Offense Date Charge Filing Date  \\\n",
       "5      Larceny < 500 Person 65+\\n   2001-08-03         2001-08-04   \n",
       "11     Larceny < 500 Person 65+\\n   2001-09-24         2001-09-25   \n",
       "35  FAILURE TO APPEAR FOR SUMMONS   2002-03-27         2002-03-27   \n",
       "36     Larceny < 500 Person 65+\\n   2002-02-28         2002-03-27   \n",
       "54     Larceny < 500 Person 65+\\n   2002-07-11         2002-07-24   \n",
       "\n",
       "                     Arresting PD  \n",
       "5   MIDDLETOWN POLICE DEPARTMENT   \n",
       "11    TIVERTON POLICE DEPARTMENT   \n",
       "35     Newport Police Department   \n",
       "36     Newport Police Department   \n",
       "54     Newport Police Department   "
      ]
     },
     "execution_count": 19,
     "metadata": {},
     "output_type": "execute_result"
    }
   ],
   "source": [
    "filtered_charges = pd.read_excel('../data/steps/Step1Output_charges.xlsx')\n",
    "filtered_charges.head()"
   ]
  },
  {
   "cell_type": "markdown",
   "metadata": {},
   "source": [
    "## Sub-step 1: Ensure all filtered charges have a matching sentence"
   ]
  },
  {
   "cell_type": "markdown",
   "metadata": {},
   "source": [
    "#### First, let's create a mapping from Charge ID to sentence"
   ]
  },
  {
   "cell_type": "code",
   "execution_count": 20,
   "metadata": {},
   "outputs": [],
   "source": [
    "charge_to_sentence_map = {}"
   ]
  },
  {
   "cell_type": "code",
   "execution_count": 21,
   "metadata": {},
   "outputs": [],
   "source": [
    "for row in crim_sentence.iterrows():\n",
    "    charge_to_sentence_map[row[1]['charge_id']] = row[1]"
   ]
  },
  {
   "cell_type": "markdown",
   "metadata": {},
   "source": [
    "#### Now, let's make sure every filtered charge has a matching sentence"
   ]
  },
  {
   "cell_type": "code",
   "execution_count": 42,
   "metadata": {},
   "outputs": [],
   "source": [
    "total = 0\n",
    "elder_unmatched = 0\n",
    "matched = []\n",
    "for row in filtered_charges.iterrows():\n",
    "    if row[1]['Charge ID'] in charge_to_sentence_map:\n",
    "        matched.append(row[1])\n",
    "    else:\n",
    "        elder_kws = ('elder','60','65')\n",
    "        if any(kw in row[1]['Offense Description'] for kw in elder_kws):\n",
    "            elder_unmatched += 0\n",
    "    total += 1"
   ]
  },
  {
   "cell_type": "code",
   "execution_count": 44,
   "metadata": {},
   "outputs": [
    {
     "name": "stdout",
     "output_type": "stream",
     "text": [
      "3328/3336 filtered charges could be mapped by Charge ID\n",
      "8/3336 filtered charges could NOT be mapped by Charge ID, but only 0 of those were elder charges\n"
     ]
    }
   ],
   "source": [
    "print '{}/{} filtered charges could be mapped by Charge ID'.format(len(matched),total)\n",
    "print '{}/{} filtered charges could NOT be mapped by Charge ID, but only {} of those were elder charges'.format(\n",
    "    total-len(matched),total,elder_unmatched\n",
    ")"
   ]
  },
  {
   "cell_type": "markdown",
   "metadata": {},
   "source": [
    "#### Okay, so they're not all matchable by Charge ID, but only 8 aren't and they aren't even elder abuse charges, so good to go matching by charge ID"
   ]
  },
  {
   "cell_type": "markdown",
   "metadata": {},
   "source": [
    "## Sub-step 2: Create full charge + sentencing record for filtered cases"
   ]
  },
  {
   "cell_type": "code",
   "execution_count": 47,
   "metadata": {},
   "outputs": [],
   "source": [
    "def snake_case(string):\n",
    "    return string.lower().replace(' ', '_')"
   ]
  },
  {
   "cell_type": "code",
   "execution_count": 63,
   "metadata": {},
   "outputs": [],
   "source": [
    "def create_merged_blob(charge, sentence):\n",
    "    blob = {}\n",
    "    for key in charge.keys():\n",
    "        blob[snake_case(key)] = charge[key]\n",
    "    for key in sentence.keys():\n",
    "        blob[snake_case(key)] = sentence[key]\n",
    "    return blob"
   ]
  },
  {
   "cell_type": "code",
   "execution_count": 64,
   "metadata": {},
   "outputs": [],
   "source": [
    "blobs = []\n",
    "for charge in matched:\n",
    "    sentence = charge_to_sentence_map[charge['Charge ID']]\n",
    "    full_blob = create_merged_blob(charge, sentence)\n",
    "    blobs.append(full_blob)"
   ]
  },
  {
   "cell_type": "code",
   "execution_count": 65,
   "metadata": {},
   "outputs": [
    {
     "data": {
      "text/plain": [
       "3328"
      ]
     },
     "execution_count": 65,
     "metadata": {},
     "output_type": "execute_result"
    }
   ],
   "source": [
    "len(blobs)"
   ]
  },
  {
   "cell_type": "code",
   "execution_count": 66,
   "metadata": {},
   "outputs": [],
   "source": [
    "to_write = pd.DataFrame(blobs)"
   ]
  },
  {
   "cell_type": "markdown",
   "metadata": {},
   "source": [
    "## Sub-step 3: Write data to `steps` folder"
   ]
  },
  {
   "cell_type": "code",
   "execution_count": 67,
   "metadata": {},
   "outputs": [],
   "source": [
    "writer = pd.ExcelWriter('../data/steps/Step3Output_charges_sentences.xlsx')\n",
    "to_write.to_excel(writer,'Sheet1')\n",
    "writer.save()"
   ]
  }
 ],
 "metadata": {
  "kernelspec": {
   "display_name": "Python 2",
   "language": "python",
   "name": "python2"
  },
  "language_info": {
   "codemirror_mode": {
    "name": "ipython",
    "version": 2
   },
   "file_extension": ".py",
   "mimetype": "text/x-python",
   "name": "python",
   "nbconvert_exporter": "python",
   "pygments_lexer": "ipython2",
   "version": "2.7.9"
  }
 },
 "nbformat": 4,
 "nbformat_minor": 2
}
