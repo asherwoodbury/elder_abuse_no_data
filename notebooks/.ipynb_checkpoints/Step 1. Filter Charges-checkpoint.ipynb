{
 "cells": [
  {
   "cell_type": "markdown",
   "metadata": {},
   "source": [
    "# This is the first step in the analysis: Filter cases to the ones in which we are interested"
   ]
  },
  {
   "cell_type": "code",
   "execution_count": 3,
   "metadata": {},
   "outputs": [],
   "source": [
    "import pandas as pd\n",
    "import numpy as np\n",
    "import datetime\n",
    "import csv"
   ]
  },
  {
   "cell_type": "code",
   "execution_count": 4,
   "metadata": {},
   "outputs": [
    {
     "data": {
      "text/html": [
       "<div>\n",
       "<style>\n",
       "    .dataframe thead tr:only-child th {\n",
       "        text-align: right;\n",
       "    }\n",
       "\n",
       "    .dataframe thead th {\n",
       "        text-align: left;\n",
       "    }\n",
       "\n",
       "    .dataframe tbody tr th {\n",
       "        vertical-align: top;\n",
       "    }\n",
       "</style>\n",
       "<table border=\"1\" class=\"dataframe\">\n",
       "  <thead>\n",
       "    <tr style=\"text-align: right;\">\n",
       "      <th></th>\n",
       "      <th>Case ID</th>\n",
       "      <th>Case No</th>\n",
       "      <th>Charge ID</th>\n",
       "      <th>Charge Number</th>\n",
       "      <th>Offense Description</th>\n",
       "      <th>Offense Date</th>\n",
       "      <th>Charge Filing Date</th>\n",
       "      <th>Arresting PD</th>\n",
       "    </tr>\n",
       "  </thead>\n",
       "  <tbody>\n",
       "    <tr>\n",
       "      <th>0</th>\n",
       "      <td>7403240</td>\n",
       "      <td>12-1990-0271</td>\n",
       "      <td>3886180</td>\n",
       "      <td>1</td>\n",
       "      <td>ASSLT PERSON OVER 60</td>\n",
       "      <td>1990-02-22</td>\n",
       "      <td>1990-02-23</td>\n",
       "      <td>NaN</td>\n",
       "    </tr>\n",
       "    <tr>\n",
       "      <th>1</th>\n",
       "      <td>7403240</td>\n",
       "      <td>12-1990-0271</td>\n",
       "      <td>3886181</td>\n",
       "      <td>1</td>\n",
       "      <td>MALICIOUS DESTRUCTION PROPERTY</td>\n",
       "      <td>1990-02-22</td>\n",
       "      <td>NaT</td>\n",
       "      <td>NaN</td>\n",
       "    </tr>\n",
       "    <tr>\n",
       "      <th>2</th>\n",
       "      <td>7413463</td>\n",
       "      <td>21-1994-03664</td>\n",
       "      <td>3896710</td>\n",
       "      <td>1</td>\n",
       "      <td>LARCENY UNDER $500/DOMESTIC</td>\n",
       "      <td>1994-12-13</td>\n",
       "      <td>1994-12-14</td>\n",
       "      <td>NaN</td>\n",
       "    </tr>\n",
       "    <tr>\n",
       "      <th>3</th>\n",
       "      <td>7422050</td>\n",
       "      <td>21-2001-01044</td>\n",
       "      <td>3907943</td>\n",
       "      <td>1</td>\n",
       "      <td>Simple Assault and/or Battery</td>\n",
       "      <td>2001-04-18</td>\n",
       "      <td>2001-05-10</td>\n",
       "      <td>PORTSMOUTH POLICE DEPARTMENT</td>\n",
       "    </tr>\n",
       "    <tr>\n",
       "      <th>4</th>\n",
       "      <td>7422569</td>\n",
       "      <td>21-2001-01639</td>\n",
       "      <td>3908725</td>\n",
       "      <td>1</td>\n",
       "      <td>LARCENY UNDER $500/DOMESTIC</td>\n",
       "      <td>2001-06-27</td>\n",
       "      <td>2001-07-12</td>\n",
       "      <td>PORTSMOUTH POLICE DEPARTMENT</td>\n",
       "    </tr>\n",
       "  </tbody>\n",
       "</table>\n",
       "</div>"
      ],
      "text/plain": [
       "   Case ID        Case No  Charge ID  Charge Number  \\\n",
       "0  7403240   12-1990-0271    3886180              1   \n",
       "1  7403240   12-1990-0271    3886181              1   \n",
       "2  7413463  21-1994-03664    3896710              1   \n",
       "3  7422050  21-2001-01044    3907943              1   \n",
       "4  7422569  21-2001-01639    3908725              1   \n",
       "\n",
       "              Offense Description Offense Date Charge Filing Date  \\\n",
       "0            ASSLT PERSON OVER 60   1990-02-22         1990-02-23   \n",
       "1  MALICIOUS DESTRUCTION PROPERTY   1990-02-22                NaT   \n",
       "2     LARCENY UNDER $500/DOMESTIC   1994-12-13         1994-12-14   \n",
       "3   Simple Assault and/or Battery   2001-04-18         2001-05-10   \n",
       "4     LARCENY UNDER $500/DOMESTIC   2001-06-27         2001-07-12   \n",
       "\n",
       "                    Arresting PD  \n",
       "0                            NaN  \n",
       "1                            NaN  \n",
       "2                            NaN  \n",
       "3  PORTSMOUTH POLICE DEPARTMENT   \n",
       "4  PORTSMOUTH POLICE DEPARTMENT   "
      ]
     },
     "execution_count": 4,
     "metadata": {},
     "output_type": "execute_result"
    }
   ],
   "source": [
    "crim_charge = pd.read_excel(\"../data/inputs/ChargeReport12_04_2017.xlsx\")\n",
    "crim_charge.head()"
   ]
  },
  {
   "cell_type": "markdown",
   "metadata": {},
   "source": [
    "## Sub-step 1: Filter to cases post-2000"
   ]
  },
  {
   "cell_type": "code",
   "execution_count": 5,
   "metadata": {},
   "outputs": [
    {
     "data": {
      "text/plain": [
       "2638"
      ]
     },
     "execution_count": 5,
     "metadata": {},
     "output_type": "execute_result"
    }
   ],
   "source": [
    "date_filtered_case_nums = set(\n",
    "    [\n",
    "        case[1]['Case No']\n",
    "        for case in crim_charge.iterrows()\n",
    "        if case[1]['Offense Date'] > pd.Timestamp('2000-01-01 00:00:00')\n",
    "    ]\n",
    ")\n",
    "len(date_filtered_case_nums)"
   ]
  },
  {
   "cell_type": "markdown",
   "metadata": {},
   "source": [
    "## Sub-step 2: Filter to cases with some elder abuse charge"
   ]
  },
  {
   "cell_type": "code",
   "execution_count": 6,
   "metadata": {},
   "outputs": [],
   "source": [
    "def is_elder_case(charge):\n",
    "    elder_charge_keywords = ('elder', '60', '65')\n",
    "    if any(kw in charge[1]['Offense Description'].lower() for kw in elder_charge_keywords):\n",
    "        return True\n",
    "    return False"
   ]
  },
  {
   "cell_type": "code",
   "execution_count": 12,
   "metadata": {},
   "outputs": [
    {
     "name": "stdout",
     "output_type": "stream",
     "text": [
      "2006\n"
     ]
    }
   ],
   "source": [
    "elder_case_nums = set(\n",
    "    [charge[1]['Case No'] for charge in crim_charge.iterrows() if is_elder_case(charge)]\n",
    ")"
   ]
  },
  {
   "cell_type": "markdown",
   "metadata": {},
   "source": [
    "## Sub-step 3: Combine filters"
   ]
  },
  {
   "cell_type": "code",
   "execution_count": 8,
   "metadata": {},
   "outputs": [],
   "source": [
    "filtered_charges = [\n",
    "    charge[1] for charge in crim_charge.iterrows()\n",
    "    if charge[1]['Case No'] in elder_case_nums\n",
    "    and charge[1]['Case No'] in date_filtered_case_nums\n",
    "]"
   ]
  },
  {
   "cell_type": "code",
   "execution_count": 9,
   "metadata": {},
   "outputs": [],
   "source": [
    "to_write = pd.DataFrame(filtered_charges)"
   ]
  },
  {
   "cell_type": "markdown",
   "metadata": {},
   "source": [
    "## Sub-step 4: Write data to `steps` folder"
   ]
  },
  {
   "cell_type": "code",
   "execution_count": 11,
   "metadata": {},
   "outputs": [],
   "source": [
    "writer = pd.ExcelWriter('../data/steps/Step1Output_charges.xlsx')\n",
    "to_write.to_excel(writer,'Sheet1')\n",
    "writer.save()"
   ]
  }
 ],
 "metadata": {
  "kernelspec": {
   "display_name": "Python 2",
   "language": "python",
   "name": "python2"
  },
  "language_info": {
   "codemirror_mode": {
    "name": "ipython",
    "version": 2
   },
   "file_extension": ".py",
   "mimetype": "text/x-python",
   "name": "python",
   "nbconvert_exporter": "python",
   "pygments_lexer": "ipython2",
   "version": "2.7.9"
  }
 },
 "nbformat": 4,
 "nbformat_minor": 2
}
