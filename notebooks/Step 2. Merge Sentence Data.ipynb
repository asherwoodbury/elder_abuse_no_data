{
 "cells": [
  {
   "cell_type": "markdown",
   "metadata": {},
   "source": [
    "# This step will merge the sentence data we received in Dec. 2017 with new sentence data from May 2018"
   ]
  },
  {
   "cell_type": "code",
   "execution_count": 51,
   "metadata": {},
   "outputs": [],
   "source": [
    "import pandas as pd\n",
    "import numpy as np\n",
    "import datetime\n",
    "import csv"
   ]
  },
  {
   "cell_type": "code",
   "execution_count": 52,
   "metadata": {
    "scrolled": true
   },
   "outputs": [
    {
     "data": {
      "text/html": [
       "<div>\n",
       "<style>\n",
       "    .dataframe thead tr:only-child th {\n",
       "        text-align: right;\n",
       "    }\n",
       "\n",
       "    .dataframe thead th {\n",
       "        text-align: left;\n",
       "    }\n",
       "\n",
       "    .dataframe tbody tr th {\n",
       "        vertical-align: top;\n",
       "    }\n",
       "</style>\n",
       "<table border=\"1\" class=\"dataframe\">\n",
       "  <thead>\n",
       "    <tr style=\"text-align: right;\">\n",
       "      <th></th>\n",
       "      <th>CaseNumber</th>\n",
       "      <th>ChargeNumber</th>\n",
       "      <th>ChargeID</th>\n",
       "      <th>Disposition</th>\n",
       "      <th>DispositionDate</th>\n",
       "      <th>Sentence</th>\n",
       "      <th>SentenceDate</th>\n",
       "      <th>SentenceTerms</th>\n",
       "      <th>SentenceConditions</th>\n",
       "      <th>Judge</th>\n",
       "    </tr>\n",
       "  </thead>\n",
       "  <tbody>\n",
       "    <tr>\n",
       "      <th>0</th>\n",
       "      <td>12-1990-0271</td>\n",
       "      <td>1</td>\n",
       "      <td>3886180.0</td>\n",
       "      <td>Dismissed/Remand To District Court</td>\n",
       "      <td>1990-03-20</td>\n",
       "      <td>NaN</td>\n",
       "      <td>NaT</td>\n",
       "      <td></td>\n",
       "      <td>NaN</td>\n",
       "      <td>Judge, Unassigned</td>\n",
       "    </tr>\n",
       "    <tr>\n",
       "      <th>1</th>\n",
       "      <td>12-1990-0271</td>\n",
       "      <td>2</td>\n",
       "      <td>3886181.0</td>\n",
       "      <td>Information Signed</td>\n",
       "      <td>1990-03-12</td>\n",
       "      <td>NaN</td>\n",
       "      <td>NaT</td>\n",
       "      <td></td>\n",
       "      <td>NaN</td>\n",
       "      <td>Judge, Unassigned</td>\n",
       "    </tr>\n",
       "    <tr>\n",
       "      <th>2</th>\n",
       "      <td>21-1994-03664</td>\n",
       "      <td>1</td>\n",
       "      <td>3896710.0</td>\n",
       "      <td>NaN</td>\n",
       "      <td>NaT</td>\n",
       "      <td>NaN</td>\n",
       "      <td>NaT</td>\n",
       "      <td></td>\n",
       "      <td>NaN</td>\n",
       "      <td>NaN</td>\n",
       "    </tr>\n",
       "    <tr>\n",
       "      <th>3</th>\n",
       "      <td>21-2001-01044</td>\n",
       "      <td>1</td>\n",
       "      <td>3907943.0</td>\n",
       "      <td>Nolo Contendere Plea - Filed</td>\n",
       "      <td>2001-05-10</td>\n",
       "      <td>Criminal Sentence</td>\n",
       "      <td>2001-05-10</td>\n",
       "      <td></td>\n",
       "      <td>Indemnity Fund 0D   100.00 Active: 05/10/2001;...</td>\n",
       "      <td>Cenerini (Retired), Frank J.</td>\n",
       "    </tr>\n",
       "    <tr>\n",
       "      <th>4</th>\n",
       "      <td>21-2001-01639</td>\n",
       "      <td>1</td>\n",
       "      <td>3908725.0</td>\n",
       "      <td>Rule 23 Transfer to Superior Court</td>\n",
       "      <td>2001-07-26</td>\n",
       "      <td>NaN</td>\n",
       "      <td>NaT</td>\n",
       "      <td></td>\n",
       "      <td>NaN</td>\n",
       "      <td>Pirraglia (Retired), Robert K.</td>\n",
       "    </tr>\n",
       "  </tbody>\n",
       "</table>\n",
       "</div>"
      ],
      "text/plain": [
       "      CaseNumber ChargeNumber   ChargeID                         Disposition  \\\n",
       "0   12-1990-0271            1  3886180.0  Dismissed/Remand To District Court   \n",
       "1   12-1990-0271            2  3886181.0                  Information Signed   \n",
       "2  21-1994-03664            1  3896710.0                                 NaN   \n",
       "3  21-2001-01044            1  3907943.0        Nolo Contendere Plea - Filed   \n",
       "4  21-2001-01639            1  3908725.0  Rule 23 Transfer to Superior Court   \n",
       "\n",
       "  DispositionDate           Sentence SentenceDate  \\\n",
       "0      1990-03-20                NaN          NaT   \n",
       "1      1990-03-12                NaN          NaT   \n",
       "2             NaT                NaN          NaT   \n",
       "3      2001-05-10  Criminal Sentence   2001-05-10   \n",
       "4      2001-07-26                NaN          NaT   \n",
       "\n",
       "                           SentenceTerms  \\\n",
       "0                                          \n",
       "1                                          \n",
       "2                                          \n",
       "3                                          \n",
       "4                                          \n",
       "\n",
       "                                  SentenceConditions  \\\n",
       "0                                                NaN   \n",
       "1                                                NaN   \n",
       "2                                                NaN   \n",
       "3  Indemnity Fund 0D   100.00 Active: 05/10/2001;...   \n",
       "4                                                NaN   \n",
       "\n",
       "                            Judge  \n",
       "0               Judge, Unassigned  \n",
       "1               Judge, Unassigned  \n",
       "2                             NaN  \n",
       "3    Cenerini (Retired), Frank J.  \n",
       "4  Pirraglia (Retired), Robert K.  "
      ]
     },
     "execution_count": 52,
     "metadata": {},
     "output_type": "execute_result"
    }
   ],
   "source": [
    "old_sentences = pd.read_excel(\"../data/inputs/Sentences_12_04_2017.xlsx\")\n",
    "old_sentences.head()"
   ]
  },
  {
   "cell_type": "code",
   "execution_count": 53,
   "metadata": {},
   "outputs": [
    {
     "data": {
      "text/html": [
       "<div>\n",
       "<style>\n",
       "    .dataframe thead tr:only-child th {\n",
       "        text-align: right;\n",
       "    }\n",
       "\n",
       "    .dataframe thead th {\n",
       "        text-align: left;\n",
       "    }\n",
       "\n",
       "    .dataframe tbody tr th {\n",
       "        vertical-align: top;\n",
       "    }\n",
       "</style>\n",
       "<table border=\"1\" class=\"dataframe\">\n",
       "  <thead>\n",
       "    <tr style=\"text-align: right;\">\n",
       "      <th></th>\n",
       "      <th>Case Number</th>\n",
       "      <th>Associated Case</th>\n",
       "      <th>Charge Number</th>\n",
       "      <th>Charge Description</th>\n",
       "      <th>Disposition</th>\n",
       "      <th>Disposition Date</th>\n",
       "      <th>Sentence</th>\n",
       "      <th>Sentence Date</th>\n",
       "      <th>Sentence Terms</th>\n",
       "      <th>Sentence Conditions</th>\n",
       "      <th>Judge</th>\n",
       "    </tr>\n",
       "  </thead>\n",
       "  <tbody>\n",
       "    <tr>\n",
       "      <th>0</th>\n",
       "      <td>21-2001-01639</td>\n",
       "      <td>N3-2001-0212A</td>\n",
       "      <td>1</td>\n",
       "      <td>LARCENY UNDER $500/DOMESTIC</td>\n",
       "      <td>Plea of Nolo Contendere</td>\n",
       "      <td>2002-02-28</td>\n",
       "      <td>Criminal Sentence</td>\n",
       "      <td>2002-02-28</td>\n",
       "      <td></td>\n",
       "      <td>Probation 1Y   Judge: JUDGE PROCACCINI\\n Activ...</td>\n",
       "      <td>Procaccini, Associate Justice Daniel A.</td>\n",
       "    </tr>\n",
       "    <tr>\n",
       "      <th>1</th>\n",
       "      <td>21-2001-02246</td>\n",
       "      <td>N3-2001-0323A</td>\n",
       "      <td>1</td>\n",
       "      <td>LARCENY UNDER $500/DOMESTIC</td>\n",
       "      <td>Dismissed 48A</td>\n",
       "      <td>2002-01-04</td>\n",
       "      <td>NaN</td>\n",
       "      <td>NaT</td>\n",
       "      <td></td>\n",
       "      <td>NaN</td>\n",
       "      <td>Procaccini, Associate Justice Daniel A.</td>\n",
       "    </tr>\n",
       "    <tr>\n",
       "      <th>2</th>\n",
       "      <td>21-2001-02246</td>\n",
       "      <td>N3-2001-0323A</td>\n",
       "      <td>2</td>\n",
       "      <td>LARCENY UNDER $500/DOMESTIC</td>\n",
       "      <td>Dismissed 48A</td>\n",
       "      <td>2002-01-04</td>\n",
       "      <td>NaN</td>\n",
       "      <td>NaT</td>\n",
       "      <td></td>\n",
       "      <td>NaN</td>\n",
       "      <td>Procaccini, Associate Justice Daniel A.</td>\n",
       "    </tr>\n",
       "    <tr>\n",
       "      <th>3</th>\n",
       "      <td>21-2002-00683</td>\n",
       "      <td>N3-2002-0216A</td>\n",
       "      <td>1</td>\n",
       "      <td>VIOLATION NO CONTACT ORDER</td>\n",
       "      <td>Dismissed 48A</td>\n",
       "      <td>2002-05-20</td>\n",
       "      <td>NaN</td>\n",
       "      <td>NaT</td>\n",
       "      <td></td>\n",
       "      <td>NaN</td>\n",
       "      <td>Procaccini, Associate Justice Daniel A.</td>\n",
       "    </tr>\n",
       "    <tr>\n",
       "      <th>4</th>\n",
       "      <td>21-2002-00683</td>\n",
       "      <td>N3-2002-0216A</td>\n",
       "      <td>2</td>\n",
       "      <td>LARCENY UNDER $500/DOMESTIC</td>\n",
       "      <td>Dismissed 48A</td>\n",
       "      <td>2002-05-20</td>\n",
       "      <td>NaN</td>\n",
       "      <td>NaT</td>\n",
       "      <td></td>\n",
       "      <td>NaN</td>\n",
       "      <td>Procaccini, Associate Justice Daniel A.</td>\n",
       "    </tr>\n",
       "  </tbody>\n",
       "</table>\n",
       "</div>"
      ],
      "text/plain": [
       "     Case Number Associated Case  Charge Number           Charge Description  \\\n",
       "0  21-2001-01639   N3-2001-0212A              1  LARCENY UNDER $500/DOMESTIC   \n",
       "1  21-2001-02246   N3-2001-0323A              1  LARCENY UNDER $500/DOMESTIC   \n",
       "2  21-2001-02246   N3-2001-0323A              2  LARCENY UNDER $500/DOMESTIC   \n",
       "3  21-2002-00683   N3-2002-0216A              1   VIOLATION NO CONTACT ORDER   \n",
       "4  21-2002-00683   N3-2002-0216A              2  LARCENY UNDER $500/DOMESTIC   \n",
       "\n",
       "               Disposition Disposition Date           Sentence Sentence Date  \\\n",
       "0  Plea of Nolo Contendere       2002-02-28  Criminal Sentence    2002-02-28   \n",
       "1            Dismissed 48A       2002-01-04                NaN           NaT   \n",
       "2            Dismissed 48A       2002-01-04                NaN           NaT   \n",
       "3            Dismissed 48A       2002-05-20                NaN           NaT   \n",
       "4            Dismissed 48A       2002-05-20                NaN           NaT   \n",
       "\n",
       "                          Sentence Terms  \\\n",
       "0                                          \n",
       "1                                          \n",
       "2                                          \n",
       "3                                          \n",
       "4                                          \n",
       "\n",
       "                                 Sentence Conditions  \\\n",
       "0  Probation 1Y   Judge: JUDGE PROCACCINI\\n Activ...   \n",
       "1                                                NaN   \n",
       "2                                                NaN   \n",
       "3                                                NaN   \n",
       "4                                                NaN   \n",
       "\n",
       "                                     Judge  \n",
       "0  Procaccini, Associate Justice Daniel A.  \n",
       "1  Procaccini, Associate Justice Daniel A.  \n",
       "2  Procaccini, Associate Justice Daniel A.  \n",
       "3  Procaccini, Associate Justice Daniel A.  \n",
       "4  Procaccini, Associate Justice Daniel A.  "
      ]
     },
     "execution_count": 53,
     "metadata": {},
     "output_type": "execute_result"
    }
   ],
   "source": [
    "new_sentences = pd.read_excel(\"../data/inputs/Sentences_New_5_6_2018.xlsx\")\n",
    "new_sentences.head()"
   ]
  },
  {
   "cell_type": "markdown",
   "metadata": {},
   "source": [
    "## Sub-step 1: Create mappings from old sentencing charge keys (Case Number + Charge Number) to old sentence record and vice versa"
   ]
  },
  {
   "cell_type": "code",
   "execution_count": 84,
   "metadata": {},
   "outputs": [],
   "source": [
    "old_sentence_mapping = {}"
   ]
  },
  {
   "cell_type": "markdown",
   "metadata": {},
   "source": [
    "#### There are some collisions in the old sentencing data. Want to use the most recent record every time"
   ]
  },
  {
   "cell_type": "code",
   "execution_count": 91,
   "metadata": {},
   "outputs": [],
   "source": [
    "def get_max_sentence_record(key, row):\n",
    "    if key in old_sentence_mapping:\n",
    "        return max(\n",
    "            row[1],\n",
    "            old_sentence_mapping[key],\n",
    "            key=lambda x:x['SentenceDate']\n",
    "        )\n",
    "    return row[1]"
   ]
  },
  {
   "cell_type": "code",
   "execution_count": 92,
   "metadata": {},
   "outputs": [],
   "source": [
    "for row in old_sentences.iterrows():\n",
    "    key = (row[1]['CaseNumber'], row[1]['ChargeNumber'])        \n",
    "    old_sentence_mapping[key] = get_max_sentence_record(key, row)"
   ]
  },
  {
   "cell_type": "markdown",
   "metadata": {},
   "source": [
    "#### Need to make 2 mappings, one for the `Case Number` column in the new data and one for the `Associated Case` column"
   ]
  },
  {
   "cell_type": "code",
   "execution_count": 93,
   "metadata": {},
   "outputs": [],
   "source": [
    "new_dc_sentence_mapping = {}\n",
    "new_sup_sentence_mapping = {}"
   ]
  },
  {
   "cell_type": "code",
   "execution_count": 94,
   "metadata": {},
   "outputs": [],
   "source": [
    "all_keys = []\n",
    "for row in new_sentences.iterrows():\n",
    "    all_keys.append(\n",
    "        (\n",
    "            row[1]['Case Number'], \n",
    "            row[1]['Associated Case'],\n",
    "            row[1]['Charge Number']\n",
    "        )\n",
    "    )\n",
    "    dc_key = (row[1]['Case Number'], row[1]['Charge Number'])\n",
    "    sup_key = (row[1]['Associated Case'], row[1]['Charge Number'])\n",
    "    new_dc_sentence_mapping[dc_key] = row[1]\n",
    "    new_sup_sentence_mapping[sup_key] = row[1]"
   ]
  },
  {
   "cell_type": "markdown",
   "metadata": {},
   "source": [
    "## Sub-step 2: Ensure new sentencing information adds no new charges, only updates existing charges"
   ]
  },
  {
   "cell_type": "markdown",
   "metadata": {},
   "source": [
    "#### We want to confirm that every charge ID in the new sentencing data is present in the old sentencing data to simplify analysis"
   ]
  },
  {
   "cell_type": "code",
   "execution_count": 95,
   "metadata": {},
   "outputs": [],
   "source": [
    "old_only = []\n",
    "new_only = []\n",
    "both = []"
   ]
  },
  {
   "cell_type": "code",
   "execution_count": 96,
   "metadata": {},
   "outputs": [
    {
     "name": "stdout",
     "output_type": "stream",
     "text": [
      "There are 162 charges that are only in the new data.\n"
     ]
    }
   ],
   "source": [
    "for key in all_keys:\n",
    "    dc_key = (key[0], key[2])\n",
    "    sup_key = (key[1], key[2])\n",
    "    if not (dc_key in old_sentence_mapping or sup_key in old_sentence_mapping):\n",
    "        new_only.append(row[1])\n",
    "print 'There are {} charges that are only in the new data.'.format(len(new_only))"
   ]
  },
  {
   "cell_type": "markdown",
   "metadata": {},
   "source": [
    "#### So our assertion is incorrect; there are some sentences in the new data that didn't exist in the old. Now, let's make sure they a) aren't Null and b) are elder abuse"
   ]
  },
  {
   "cell_type": "code",
   "execution_count": 97,
   "metadata": {},
   "outputs": [],
   "source": [
    "for k in new_only:\n",
    "    p = ('elder', '65', '60')\n",
    "    if pd.isnull(k['Sentence Conditions']):\n",
    "        continue\n",
    "    if any(o in k['Sentence Conditions'] for o in p):\n",
    "        print k"
   ]
  },
  {
   "cell_type": "markdown",
   "metadata": {},
   "source": [
    "#### They are all Null/not elder, so we can ignore them. Therefore, the old sentencing data contains all relevant keys."
   ]
  },
  {
   "cell_type": "markdown",
   "metadata": {},
   "source": [
    "## Sub-step 3: Create merged sentencing data, using new sentencing data if available, and old otherwise"
   ]
  },
  {
   "cell_type": "code",
   "execution_count": 98,
   "metadata": {},
   "outputs": [],
   "source": [
    "merged_sentences = []"
   ]
  },
  {
   "cell_type": "code",
   "execution_count": 99,
   "metadata": {},
   "outputs": [],
   "source": [
    "def get_sentence_info(new, old):\n",
    "    merged_sentence = {\n",
    "        'charge_id': old['ChargeID']\n",
    "    }\n",
    "    if new is not None:\n",
    "        merged_sentence.update({\n",
    "            'disposition': new['Disposition'],\n",
    "            'disposition_date': new['Disposition Date'],\n",
    "            'sentence': new['Sentence'],\n",
    "            'sentence_date': new['Sentence Date'],\n",
    "            'sentence_terms': new['Sentence Terms'],\n",
    "            'sentence_conditions': new['Sentence Conditions'],\n",
    "            'judge': new['Judge']\n",
    "        })\n",
    "    else:\n",
    "        merged_sentence.update({\n",
    "            'disposition': old['Disposition'],\n",
    "            'disposition_date': old['DispositionDate'],\n",
    "            'sentence': old['Sentence'],\n",
    "            'sentence_date': old['SentenceDate'],\n",
    "            'sentence_terms': old['SentenceTerms'],\n",
    "            'sentence_conditions': old['SentenceConditions'],\n",
    "            'judge': old['Judge']\n",
    "        })    \n",
    "    return merged_sentence"
   ]
  },
  {
   "cell_type": "code",
   "execution_count": 100,
   "metadata": {},
   "outputs": [],
   "source": [
    "for key in old_sentence_mapping:\n",
    "    old = old_sentence_mapping[key]\n",
    "    new = None\n",
    "    if key in new_dc_sentence_mapping:\n",
    "        new = new_dc_sentence_mapping[key]\n",
    "    elif key in new_sup_sentence_mapping:\n",
    "        new = new_sup_sentence_mapping[key]\n",
    "    merged_sentences.append(get_sentence_info(new, old))"
   ]
  },
  {
   "cell_type": "code",
   "execution_count": 101,
   "metadata": {
    "scrolled": true
   },
   "outputs": [
    {
     "data": {
      "text/plain": [
       "15132"
      ]
     },
     "execution_count": 101,
     "metadata": {},
     "output_type": "execute_result"
    }
   ],
   "source": [
    "len(merged_sentences)"
   ]
  },
  {
   "cell_type": "code",
   "execution_count": 102,
   "metadata": {},
   "outputs": [],
   "source": [
    "to_write = pd.DataFrame(merged_sentences)"
   ]
  },
  {
   "cell_type": "markdown",
   "metadata": {},
   "source": [
    "## Sub-step 4: Write data to `steps` folder"
   ]
  },
  {
   "cell_type": "code",
   "execution_count": 103,
   "metadata": {},
   "outputs": [],
   "source": [
    "writer = pd.ExcelWriter('../data/steps/Step2Output_sentences.xlsx')\n",
    "to_write.to_excel(writer,'Sheet1')\n",
    "writer.save()"
   ]
  }
 ],
 "metadata": {
  "kernelspec": {
   "display_name": "Python 2",
   "language": "python",
   "name": "python2"
  },
  "language_info": {
   "codemirror_mode": {
    "name": "ipython",
    "version": 2
   },
   "file_extension": ".py",
   "mimetype": "text/x-python",
   "name": "python",
   "nbconvert_exporter": "python",
   "pygments_lexer": "ipython2",
   "version": "2.7.9"
  }
 },
 "nbformat": 4,
 "nbformat_minor": 2
}
